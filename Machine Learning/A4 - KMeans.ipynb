{
  "nbformat": 4,
  "nbformat_minor": 0,
  "metadata": {
    "colab": {
      "name": "Assgn 4 - K-Means.ipynb",
      "provenance": [],
      "collapsed_sections": []
    },
    "kernelspec": {
      "name": "python3",
      "display_name": "Python 3"
    },
    "language_info": {
      "name": "python"
    }
  },
  "cells": [
    {
      "cell_type": "code",
      "source": [
        "points = [[0.1, 0.6], [0.15, 0.71], [0.08, 0.9], [0.16, 0.85], [0.2, 0.3], [0.25, 0.5], [0.24, 0.1], [0.3, 0.2]]"
      ],
      "metadata": {
        "id": "Cd8mxwYAHAlt"
      },
      "execution_count": null,
      "outputs": []
    },
    {
      "cell_type": "code",
      "source": [
        "def euclidean_distance(point1, point2):\n",
        "    return ((point1[0]-point2[0])**2 + (point1[1]-point2[1])**2)**0.5"
      ],
      "metadata": {
        "id": "7nQB0aNZLAUi"
      },
      "execution_count": null,
      "outputs": []
    },
    {
      "cell_type": "code",
      "source": [
        "class KMeansClustering:\n",
        "\n",
        "    def __init__(self, k=2, max_iter = 100, tolerance = 0.01):\n",
        "        self.k = k\n",
        "        self.max_iter = max_iter\n",
        "        self.tolerance = tolerance\n",
        "        self.original_centroids = []\n",
        "        self.centroids = []\n",
        "\n",
        "    def add_centroids(self):\n",
        "        centroid_count = 0\n",
        "        for i in range(self.k - 1):\n",
        "            self.centroids.append(points[0+i])\n",
        "            centroid_count += 1\n",
        "            if centroid_count < self.k:\n",
        "                self.centroids.append(points[len(points) - i - 1])\n",
        "                centroid_count += 1\n",
        "\n",
        "    def fit(self):\n",
        "        self.add_centroids()\n",
        "        self.original_centroids = self.centroids\n",
        "        for i in range(self.max_iter):\n",
        "            classification = []\n",
        "            for point in points:\n",
        "                distances = []\n",
        "                for centr in self.centroids:\n",
        "                    distances.append(euclidean_distance(point, centr))\n",
        "                classification.append(distances.index(min(distances)))\n",
        "            sums = []\n",
        "            for k in range(len(self.centroids)):\n",
        "                sums.append([0, 0])\n",
        "            #sum all the points in cluster\n",
        "            for k in range(len(classification)):\n",
        "                sums[classification[k]][0] += points[k][0]\n",
        "                sums[classification[k]][1] += points[k][1]\n",
        "            #average/divide the centroid points\n",
        "            for unique in set(classification):\n",
        "                sums[unique][0] /= classification.count(unique)\n",
        "                sums[unique][1] /= classification.count(unique)\n",
        "            #set new centroids\n",
        "            self.centroids = sums\n",
        "        return self.centroids, classification"
      ],
      "metadata": {
        "id": "Grw9JxAOHgIZ"
      },
      "execution_count": null,
      "outputs": []
    },
    {
      "cell_type": "code",
      "source": [
        "kMeans = KMeansClustering()\n",
        "centroids, classification = kMeans.fit()"
      ],
      "metadata": {
        "id": "vaJqWGEvI2wv"
      },
      "execution_count": null,
      "outputs": []
    },
    {
      "cell_type": "code",
      "source": [
        "print(\"CLASSIFICATION : \")\n",
        "for i in range(len(classification)):\n",
        "    print(classification[i], points[i])"
      ],
      "metadata": {
        "colab": {
          "base_uri": "https://localhost:8080/"
        },
        "id": "jAnqAeVwiyJA",
        "outputId": "173ce78e-1b81-43f8-bee9-d1c51e7f5390"
      },
      "execution_count": null,
      "outputs": [
        {
          "output_type": "stream",
          "name": "stdout",
          "text": [
            "CLASSIFICATION : \n",
            "0 [0.1, 0.6]\n",
            "0 [0.15, 0.71]\n",
            "0 [0.08, 0.9]\n",
            "0 [0.16, 0.85]\n",
            "1 [0.2, 0.3]\n",
            "0 [0.25, 0.5]\n",
            "1 [0.24, 0.1]\n",
            "1 [0.3, 0.2]\n"
          ]
        }
      ]
    },
    {
      "cell_type": "code",
      "source": [
        "print(\"POINT P6 BELONGS TO M\", classification[5]+1, \"CLUSTER\")"
      ],
      "metadata": {
        "colab": {
          "base_uri": "https://localhost:8080/"
        },
        "id": "xQp6NEqkjJqj",
        "outputId": "1249cc06-2daf-4bcc-a0d8-7f7fac6c7591"
      },
      "execution_count": null,
      "outputs": [
        {
          "output_type": "stream",
          "name": "stdout",
          "text": [
            "POINT P6 BELONGS TO M 1 CLUSTER\n"
          ]
        }
      ]
    },
    {
      "cell_type": "code",
      "source": [
        "print(\"POPULATION OF M2 CLUSTER IS\", classification.count(1))"
      ],
      "metadata": {
        "colab": {
          "base_uri": "https://localhost:8080/"
        },
        "id": "giycwTmyjiGT",
        "outputId": "5e69f5f4-65e2-4daf-8245-c1cd213a7a34"
      },
      "execution_count": null,
      "outputs": [
        {
          "output_type": "stream",
          "name": "stdout",
          "text": [
            "POPULATION OF M2 CLUSTER IS 3\n"
          ]
        }
      ]
    },
    {
      "cell_type": "code",
      "source": [
        ""
      ],
      "metadata": {
        "id": "1guEGnHXj1qf"
      },
      "execution_count": null,
      "outputs": []
    },
    {
      "cell_type": "code",
      "source": [
        "print(\"ORIGINAL CENTROIDS : \", kMeans.original_centroids)\n",
        "print(\"NEW/FINAL CENTROIDS : \", centroids)"
      ],
      "metadata": {
        "colab": {
          "base_uri": "https://localhost:8080/"
        },
        "id": "FSRmCPBPiZvk",
        "outputId": "5f2729a7-1194-4c05-cb27-4455eea824f0"
      },
      "execution_count": null,
      "outputs": [
        {
          "output_type": "stream",
          "name": "stdout",
          "text": [
            "ORIGINAL CENTROIDS :  [[0.1, 0.6], [0.3, 0.2]]\n",
            "NEW/FINAL CENTROIDS :  [[0.148, 0.712], [0.24666666666666667, 0.20000000000000004]]\n"
          ]
        }
      ]
    }
  ]
}